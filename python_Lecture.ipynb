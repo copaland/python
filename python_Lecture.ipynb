{
  "nbformat": 4,
  "nbformat_minor": 0,
  "metadata": {
    "colab": {
      "provenance": [],
      "toc_visible": true,
      "include_colab_link": true
    },
    "kernelspec": {
      "name": "python3",
      "display_name": "Python 3"
    },
    "language_info": {
      "name": "python"
    }
  },
  "cells": [
    {
      "cell_type": "markdown",
      "metadata": {
        "id": "view-in-github",
        "colab_type": "text"
      },
      "source": [
        "<a href=\"https://colab.research.google.com/github/copaland/python/blob/main/python_Lecture.ipynb\" target=\"_parent\"><img src=\"https://colab.research.google.com/assets/colab-badge.svg\" alt=\"Open In Colab\"/></a>"
      ]
    },
    {
      "cell_type": "markdown",
      "source": [
        "#연산자"
      ],
      "metadata": {
        "id": "ZOdH0pjMXWVi"
      }
    },
    {
      "cell_type": "markdown",
      "source": [
        "##가감승제 연산자\n"
      ],
      "metadata": {
        "id": "ZynFAX_7OD9z"
      }
    },
    {
      "cell_type": "code",
      "execution_count": null,
      "metadata": {
        "id": "NQnj44vb6uvB",
        "outputId": "681d9265-6a12-4941-ab11-2bfb74e70e10",
        "colab": {
          "base_uri": "https://localhost:8080/"
        }
      },
      "outputs": [
        {
          "output_type": "stream",
          "name": "stdout",
          "text": [
            "100 + 200 = 300\n",
            "100 - 200 = -100\n",
            "100 x 200 = 20000\n",
            "100 / 200 = 0.5\n"
          ]
        }
      ],
      "source": [
        "num1 = 100\n",
        "num2 = 200\n",
        "result = num1 + num2\n",
        "print(num1,\"+\",num2,\"=\",result)\n",
        "result = num1 - num2\n",
        "print(num1,\"-\",num2,\"=\",result)\n",
        "result = num1 * num2\n",
        "print(num1,\"x\",num2,\"=\",result)\n",
        "result = num1 / num2\n",
        "print(num1,\"/\",num2,\"=\",result)"
      ]
    },
    {
      "cell_type": "markdown",
      "source": [
        "## ,과 + 사용법"
      ],
      "metadata": {
        "id": "7R3kplvn2MVJ"
      }
    },
    {
      "cell_type": "code",
      "source": [
        "a = \"대한\"\n",
        "b = \"민국\"\n",
        "print(a,b) # ,를 사용하면 스페이스가 붙음\n",
        "print(a+b) # +를 사용시 붙어서 나옴"
      ],
      "metadata": {
        "colab": {
          "base_uri": "https://localhost:8080/"
        },
        "id": "PkCYwiUyLTf8",
        "outputId": "573f957a-7a4a-4efb-8769-12ceb1bacc5b"
      },
      "execution_count": null,
      "outputs": [
        {
          "output_type": "stream",
          "name": "stdout",
          "text": [
            "대한 민국\n",
            "대한민국\n"
          ]
        }
      ]
    },
    {
      "cell_type": "code",
      "source": [
        "a = \"123\"\n",
        "b = \"456\"\n",
        "print(a,b)\n",
        "print(a+b) #스트링이라  합이 아니라 123456으로 뜸"
      ],
      "metadata": {
        "colab": {
          "base_uri": "https://localhost:8080/"
        },
        "id": "NeP8ttFyLqS1",
        "outputId": "1ea82878-290b-44ed-a0d3-c2853b8b0567"
      },
      "execution_count": null,
      "outputs": [
        {
          "output_type": "stream",
          "name": "stdout",
          "text": [
            "123 456\n",
            "123456\n"
          ]
        }
      ]
    },
    {
      "cell_type": "markdown",
      "source": [
        "##int 함수"
      ],
      "metadata": {
        "id": "HKZrjHTa2Y3p"
      }
    },
    {
      "cell_type": "code",
      "source": [
        "a = int(\"123\")\n",
        "b = int(\"456\")\n",
        "print(a,b)\n",
        "print(a+b) #합으로 뜸."
      ],
      "metadata": {
        "colab": {
          "base_uri": "https://localhost:8080/"
        },
        "id": "8kY8-GixL95a",
        "outputId": "dcaa6a49-2208-4717-d554-ac045ea3be8a"
      },
      "execution_count": null,
      "outputs": [
        {
          "output_type": "stream",
          "name": "stdout",
          "text": [
            "123 456\n",
            "579\n"
          ]
        }
      ]
    },
    {
      "cell_type": "markdown",
      "source": [
        "##변수 Type"
      ],
      "metadata": {
        "id": "El5r2UzN2eWp"
      }
    },
    {
      "cell_type": "code",
      "source": [
        "a = 1234\n",
        "b = \"가나다\"\n",
        "c = 3.141592\n",
        "d = True\n",
        "print(type(a)) #인티저\n",
        "print(type(b)) #스트링\n",
        "print(type(c)) #플롯\n",
        "print(type(d)) #불\n",
        "a = \"hi\"\n",
        "print(type(a)) #파이썬 변수는 스트링으로 자동으로 바뀜 #스트링은 더하기(+)만 됨"
      ],
      "metadata": {
        "colab": {
          "base_uri": "https://localhost:8080/"
        },
        "id": "czCkjMeKMSQk",
        "outputId": "8f13ba9b-2e3c-4bb4-bf42-08d9a6741793"
      },
      "execution_count": null,
      "outputs": [
        {
          "output_type": "stream",
          "name": "stdout",
          "text": [
            "<class 'int'>\n",
            "<class 'str'>\n",
            "<class 'float'>\n",
            "<class 'bool'>\n",
            "<class 'str'>\n"
          ]
        }
      ]
    },
    {
      "cell_type": "markdown",
      "source": [
        "---\n",
        "변수명은 영문자가 앞으로 나오고 숫자가 뒤로옴.   \n",
        "변수명은 대문자와 소문자를 구별함.   \n",
        "변수명에 예악어를 사용할 수 없음    \n",
        "예약어 : 이미 파이썬문법에 정의되어 사용하는 단어if else등    \n",
        "\n",
        "변수명으로 예약어를 사용하면 오류 발생함   \n",
        "(true, fluse, none, if, elif, continue, def, finally, else, for, pass, with, try,excpt,break,class,return,import,as)   \n",
        "좋은 변수는 의미를 이름 보고알 수 있는것\n",
        "\n",
        "---\n"
      ],
      "metadata": {
        "id": "mKv4bedFN2GE"
      }
    },
    {
      "cell_type": "markdown",
      "source": [
        "# INPUT 함수"
      ],
      "metadata": {
        "id": "c5qpA89UUWmf"
      }
    },
    {
      "cell_type": "code",
      "source": [
        "#input 함수 \n",
        "#입력하는데로 결과가 뜸.\n",
        "input()\n"
      ],
      "metadata": {
        "colab": {
          "base_uri": "https://localhost:8080/",
          "height": 54
        },
        "id": "00gYtCQpSk1r",
        "outputId": "f5d180d0-abc0-40ef-c8a3-1f6e1b41a1ae"
      },
      "execution_count": null,
      "outputs": [
        {
          "name": "stdout",
          "output_type": "stream",
          "text": [
            "1\n"
          ]
        },
        {
          "output_type": "execute_result",
          "data": {
            "text/plain": [
              "'1'"
            ],
            "application/vnd.google.colaboratory.intrinsic+json": {
              "type": "string"
            }
          },
          "metadata": {},
          "execution_count": 55
        }
      ]
    },
    {
      "cell_type": "code",
      "source": [
        "num1 = input(\"숫자입력1\") #문자로 받는것임.\n",
        "num2 = input(\"숫자입력2\")\n",
        "print(num1)\n",
        "print(num2)\n",
        "result = num1+num2\n",
        "print(num1,\"+\",num2, \"=\",result)"
      ],
      "metadata": {
        "colab": {
          "base_uri": "https://localhost:8080/"
        },
        "id": "i4Py-f_fTHBc",
        "outputId": "10960728-f2bb-420a-9041-b034c9beb073"
      },
      "execution_count": null,
      "outputs": [
        {
          "output_type": "stream",
          "name": "stdout",
          "text": [
            "숫자입력11\n",
            "숫자입력22\n",
            "1\n",
            "2\n",
            "1 + 2 = 12\n"
          ]
        }
      ]
    },
    {
      "cell_type": "code",
      "source": [
        "num1 = int(input(\"숫자입력1\")) #int로 해야 숫자로인식\n",
        "num2 = int(input(\"숫자입력2\"))\n",
        "print(num1)\n",
        "print(num2)\n",
        "result = num1+num2\n",
        "print(num1,\"+\",num2, \"=\",result)\n",
        "result = num1-num2\n",
        "print(num1,\"-\",num2, \"=\",result)\n",
        "result = num1*num2\n",
        "print(num1,\"*\",num2, \"=\",result)\n",
        "result = num1/num2\n",
        "print(num1,\"/\",num2, \"=\",result)"
      ],
      "metadata": {
        "colab": {
          "base_uri": "https://localhost:8080/"
        },
        "id": "i7mQ4mguUJdD",
        "outputId": "19abd58c-686a-4d46-8099-07df673b939f"
      },
      "execution_count": null,
      "outputs": [
        {
          "output_type": "stream",
          "name": "stdout",
          "text": [
            "숫자입력11\n",
            "숫자입력22\n",
            "1\n",
            "2\n",
            "1 + 2 = 3\n",
            "1 - 2 = -1\n",
            "1 * 2 = 2\n",
            "1 / 2 = 0.5\n"
          ]
        }
      ]
    },
    {
      "cell_type": "markdown",
      "source": [
        "##응용)사용자의 전화번호 받아 기록하는 프로그램\n",
        "\n"
      ],
      "metadata": {
        "id": "ZNbpyKsyWDYr"
      }
    },
    {
      "cell_type": "code",
      "source": [
        " userName = input(\"이름입력:\")\n",
        " phoneNum = input(\"전화번호:\")\n",
        " print(\"입력한 내용은\",userName,\",\",\"전화번호는\",phoneNum,\"입니다.\")"
      ],
      "metadata": {
        "colab": {
          "base_uri": "https://localhost:8080/"
        },
        "id": "Vlpb0hu-T-zt",
        "outputId": "752b2eb5-7722-42a5-e5ae-50b3f4136a80"
      },
      "execution_count": null,
      "outputs": [
        {
          "output_type": "stream",
          "name": "stdout",
          "text": [
            "이름입력:ㅁㄱㅎ\n",
            "전화번호:1234\n",
            "입력한 내용은 ㅁㄱㅎ , 전화번호는 1234 입니다.\n"
          ]
        }
      ]
    },
    {
      "cell_type": "markdown",
      "source": [
        "##응용) 택배 배송 정보 입력하기"
      ],
      "metadata": {
        "id": "wPUfJhoEcFx-"
      }
    },
    {
      "cell_type": "code",
      "source": [
        "print(\"##택배를 보내기위한 정보를 입력하세요.##\")\n",
        "personName = input(\"받는사람 : \")\n",
        "personAddr = input(\"주소 : \")\n",
        "weight = int(input(\"무게(g) :\"))\n",
        "print(\"** 받는사람 ==>\", personName)\n",
        "print(\"** 주소 ==>\",personAddr)\n",
        "print(\"**배송비 ==>\",weight*5,\"원\")"
      ],
      "metadata": {
        "colab": {
          "base_uri": "https://localhost:8080/"
        },
        "id": "tCODG3ozcEyg",
        "outputId": "520ee88b-aac0-4d89-e799-0d2ae60e86f8"
      },
      "execution_count": null,
      "outputs": [
        {
          "output_type": "stream",
          "name": "stdout",
          "text": [
            "##택배를 보내기위한 정보를 입력하세요.##\n",
            "받는사람 : 1\n",
            "주소 : 1\n",
            "무게(g) :13\n",
            "** 받는사람 ==> 1\n",
            "** 주소 ==> 1\n",
            "**배송비 ==> 65 원\n"
          ]
        }
      ]
    },
    {
      "cell_type": "markdown",
      "source": [
        "#산술연산자"
      ],
      "metadata": {
        "id": "shIQfxAzd6b4"
      }
    },
    {
      "cell_type": "markdown",
      "source": [
        "파이썬에서 사용되는 기본적인 산술 연산자 (+  -  *  /)"
      ],
      "metadata": {
        "id": "UEyZuARvd9Ov"
      }
    },
    {
      "cell_type": "markdown",
      "source": [
        "##산술연산"
      ],
      "metadata": {
        "id": "jSs63GtieFt_"
      }
    },
    {
      "cell_type": "code",
      "source": [
        "#산술 연산자 좌우측이 대입되어야 함.\n",
        "a,b,c = 3,4,5\n",
        "print(a+b-c)\n",
        "print(a-c+b)\n",
        "print(-c+a+b)"
      ],
      "metadata": {
        "colab": {
          "base_uri": "https://localhost:8080/"
        },
        "id": "ym-agfg3ed1P",
        "outputId": "704ebd90-c2e3-448c-c4be-90ae70afe89a"
      },
      "execution_count": null,
      "outputs": [
        {
          "output_type": "stream",
          "name": "stdout",
          "text": [
            "2\n",
            "2\n",
            "2\n"
          ]
        }
      ]
    },
    {
      "cell_type": "code",
      "source": [
        "#곱하기와 나누기가 더하기와 빼기를 만나면 곱하기와 나누기먼저 실행\n",
        "a,b,c=3,4,5\n",
        "print(a*b+c)\n",
        "print(c+a*b)"
      ],
      "metadata": {
        "colab": {
          "base_uri": "https://localhost:8080/"
        },
        "id": "PXurq8iufHj_",
        "outputId": "84b0d3ac-847e-40eb-ac4a-97c5d247ae43"
      },
      "execution_count": null,
      "outputs": [
        {
          "output_type": "stream",
          "name": "stdout",
          "text": [
            "17\n",
            "17\n"
          ]
        }
      ]
    },
    {
      "cell_type": "code",
      "source": [
        "a = 11//4 #소숫점이하 버리는 나누기 (몫)\n",
        "b = 11%4 #나머지 구하는 나누기\n",
        "c = 11/4 #나누기\n",
        "d = 10**2 # 제곱계산\n",
        "print(a)\n",
        "print(b)\n",
        "print(c)\n",
        "print(d)"
      ],
      "metadata": {
        "colab": {
          "base_uri": "https://localhost:8080/"
        },
        "id": "Vibt2J7gf5v3",
        "outputId": "d3649408-3012-422f-8cc9-c47c85f7629b"
      },
      "execution_count": null,
      "outputs": [
        {
          "output_type": "stream",
          "name": "stdout",
          "text": [
            "2\n",
            "3\n",
            "2.75\n",
            "100\n"
          ]
        }
      ]
    },
    {
      "cell_type": "code",
      "source": [
        "num1 = int(input(\"수입력:\"))\n",
        "num2 = int(input(\"나눌수:\"))\n",
        "q = num1 // num2\n",
        "r = num1 % num2\n",
        "print(num1,\"/\",num2,\"의 몫:\",q,\"\\n나머지는\",r,\"이다.\") \n"
      ],
      "metadata": {
        "colab": {
          "base_uri": "https://localhost:8080/"
        },
        "id": "m4ThycuPg44_",
        "outputId": "06c00c8b-c1b5-4c01-adc0-67556f0773f4"
      },
      "execution_count": null,
      "outputs": [
        {
          "output_type": "stream",
          "name": "stdout",
          "text": [
            "수입력:1\n",
            "나눌수:1\n",
            "1 / 1 의 몫: 1 \n",
            "나머지는 0 이다.\n"
          ]
        }
      ]
    },
    {
      "cell_type": "markdown",
      "source": [
        "##예제)덤벨의 파운드를 kg으로 환산하기"
      ],
      "metadata": {
        "id": "rfW-8oNViMt3"
      }
    },
    {
      "cell_type": "code",
      "source": [
        "num1 = int(input(\"파운드(1b)를 입력하세요:\"))\n",
        "q = 1*0.453592\n",
        "print(num1,\"파운드 (1b)는\",q,\"킬로그램(kg)입니다.\")\n",
        "num2 = int(input(\"킬로그램(kg)를 입력하세요:\"))\n",
        "r = 1*2.204623\n",
        "print(num2,\"킬로그램 (Kg)은\",r,\"파운드(1b)입니다.\")"
      ],
      "metadata": {
        "colab": {
          "base_uri": "https://localhost:8080/"
        },
        "id": "9yGTRJdqiR6v",
        "outputId": "8731b7b8-8a19-4b02-d217-824edad9de15"
      },
      "execution_count": null,
      "outputs": [
        {
          "output_type": "stream",
          "name": "stdout",
          "text": [
            "파운드(1b)를 입력하세요:1\n",
            "1 파운드 (1b)는 0.453592 킬로그램(kg)입니다.\n",
            "킬로그램(kg)를 입력하세요:2\n",
            "2 킬로그램 (Kg)은 2.204623 파운드(1b)입니다.\n"
          ]
        }
      ]
    },
    {
      "cell_type": "markdown",
      "source": [
        "#대입연산자"
      ],
      "metadata": {
        "id": "dsb0AQMekfPu"
      }
    },
    {
      "cell_type": "markdown",
      "source": [
        "오른쪽의 값이나 계산 결과를 왼쪽으로 대입하라는 의미로 = 연산자가 가장 기본적인 대입 연산자   \n"
      ],
      "metadata": {
        "id": "9S2xXNn6kiYW"
      }
    },
    {
      "cell_type": "markdown",
      "source": [
        "여러개의 대입 연산자   \n",
        "콤마,로 분리해서 왼쪽에 변수가 2개이상 나올수도있음   \n",
        "그런경우에는 오른쪽도 반드시 콤마로 분리된 2개의 수식,숫자,문자열 등이 와야함    \n"
      ],
      "metadata": {
        "id": "tXhoIYIdkugw"
      }
    },
    {
      "cell_type": "code",
      "source": [
        "num1,num2,num3 = 100,200,300\n",
        "print(num1,num2,num3)\n",
        "num4 = 100,200 #특수상황\n",
        "print(num4)"
      ],
      "metadata": {
        "colab": {
          "base_uri": "https://localhost:8080/"
        },
        "id": "hZiOHhqwlBoV",
        "outputId": "bfd407a4-0f58-4ea7-c2de-2c7e5d35b4ca"
      },
      "execution_count": null,
      "outputs": [
        {
          "output_type": "stream",
          "name": "stdout",
          "text": [
            "100 200 300\n",
            "(100, 200)\n"
          ]
        }
      ]
    },
    {
      "cell_type": "markdown",
      "source": [
        "# 논리연산자"
      ],
      "metadata": {
        "id": "zfBbTpvQl5v2"
      }
    },
    {
      "cell_type": "markdown",
      "source": [
        "### 비교연산자"
      ],
      "metadata": {
        "id": "4cdcPtZ-l8p9"
      }
    },
    {
      "cell_type": "markdown",
      "source": [
        "변수에 들어 있는 값을 주로 사용함"
      ],
      "metadata": {
        "id": "Oywind8mNUkz"
      }
    },
    {
      "cell_type": "code",
      "source": [
        "score = int(input(\"점수입력:\"))\n",
        "print(score >= 70)"
      ],
      "metadata": {
        "colab": {
          "base_uri": "https://localhost:8080/"
        },
        "id": "KTvnPd12mF7N",
        "outputId": "360a10e5-ca2e-45a9-e672-dc9af5afccb7"
      },
      "execution_count": null,
      "outputs": [
        {
          "output_type": "stream",
          "name": "stdout",
          "text": [
            "점수입력:75\n",
            "True\n"
          ]
        }
      ]
    },
    {
      "cell_type": "code",
      "source": [
        "sc = int(input(\"점수입력:\"))\n",
        "(sc > 100) and (sc < 200) #조건:100<sc<200"
      ],
      "metadata": {
        "colab": {
          "base_uri": "https://localhost:8080/"
        },
        "id": "UMxVgwTDmqGu",
        "outputId": "6cdba1c2-2751-41b3-ca39-a1db8e69f409"
      },
      "execution_count": null,
      "outputs": [
        {
          "name": "stdout",
          "output_type": "stream",
          "text": [
            "점수입력:145\n"
          ]
        },
        {
          "output_type": "execute_result",
          "data": {
            "text/plain": [
              "True"
            ]
          },
          "metadata": {},
          "execution_count": 115
        }
      ]
    },
    {
      "cell_type": "code",
      "source": [
        "sc = int(input(\"점수입력:\"))\n",
        "(sc == 100) or (sc > 200) #조건: 100인경우 이거나, 200이상일때."
      ],
      "metadata": {
        "colab": {
          "base_uri": "https://localhost:8080/"
        },
        "id": "a3Al-WhjnPv9",
        "outputId": "2d331e1c-6d93-474f-97f7-be9d8bb84c65"
      },
      "execution_count": null,
      "outputs": [
        {
          "name": "stdout",
          "output_type": "stream",
          "text": [
            "점수입력:201\n"
          ]
        },
        {
          "output_type": "execute_result",
          "data": {
            "text/plain": [
              "True"
            ]
          },
          "metadata": {},
          "execution_count": 122
        }
      ]
    },
    {
      "cell_type": "code",
      "source": [
        "sc = 100\n",
        "not(sc==100) #not을 써서 부정을하여 False가 나옴."
      ],
      "metadata": {
        "colab": {
          "base_uri": "https://localhost:8080/"
        },
        "id": "6QJKMxqQnqz1",
        "outputId": "51c46f63-e4b5-4374-c3ab-719bc1c0d428"
      },
      "execution_count": null,
      "outputs": [
        {
          "output_type": "execute_result",
          "data": {
            "text/plain": [
              "False"
            ]
          },
          "metadata": {},
          "execution_count": 124
        }
      ]
    },
    {
      "cell_type": "markdown",
      "source": [
        "#데이터형식"
      ],
      "metadata": {
        "id": "Pg6firJrsABM"
      }
    },
    {
      "cell_type": "markdown",
      "source": [
        "데이터형(Data Type) 변수나 상수의 종류 의미"
      ],
      "metadata": {
        "id": "V_Ip0zTZsCiU"
      }
    },
    {
      "cell_type": "code",
      "source": [
        "#type()함수 : 변수의 종류 확인하는용도"
      ],
      "metadata": {
        "id": "M_yzJmjDsMKx"
      },
      "execution_count": null,
      "outputs": []
    },
    {
      "cell_type": "markdown",
      "source": [
        "### 데이터형식   \n",
        "정수형 : 소수점이 없는수, int의 크기에 제한이 없음.\n",
        "실수형 : 소수점이 있는수 (3.14,-8.8등)    \n",
        "정수와 정수의 연산은 정수   \n",
        "실수와 실수의 연산은 실수   \n",
        "정수와 정수여도 나눗셈을 하면 실수가 나옴   "
      ],
      "metadata": {
        "id": "DlAg8vctsUHM"
      }
    },
    {
      "cell_type": "code",
      "source": [
        "#자료형\n",
        "var1 = 100\n",
        "var2 = 3.141592\n",
        "var3 = \"대한민국\"\n",
        "var4 = True\n",
        "print(type(var1))\n",
        "print(type(var2))\n",
        "print(type(var3))\n",
        "print(type(var4))"
      ],
      "metadata": {
        "colab": {
          "base_uri": "https://localhost:8080/"
        },
        "id": "79Fe2-Rrsptz",
        "outputId": "babddd8b-3e00-4ecc-a338-496dbdf11104"
      },
      "execution_count": null,
      "outputs": [
        {
          "output_type": "stream",
          "name": "stdout",
          "text": [
            "<class 'int'>\n",
            "<class 'float'>\n",
            "<class 'str'>\n",
            "<class 'bool'>\n"
          ]
        }
      ]
    },
    {
      "cell_type": "markdown",
      "source": [
        "문자열"
      ],
      "metadata": {
        "id": "mxO45Lr-uyU7"
      }
    },
    {
      "cell_type": "markdown",
      "source": [
        "---\n",
        "### 명령어"
      ],
      "metadata": {
        "id": "xLOXvroRx21S"
      }
    },
    {
      "cell_type": "code",
      "source": [
        "print(\"애국가\\t1절\")\n",
        "# \\t:탭 \n",
        "print(\"동해물과 '백두산'이 \\n마르고 닳도록\")\n",
        "#'' 쓸라면 \"\" , \\n : 줄바꾸기\n",
        "print('동해물과 \"백두산\"이 마르고 닳도록')\n",
        "#\"\" 쓸라면 '' \n",
        "print('동해물과 \"백두산\"이\\b 마르고 닳도록')\n",
        "# \\b : 백슬래쉬 \n",
        "\n",
        "\n"
      ],
      "metadata": {
        "colab": {
          "base_uri": "https://localhost:8080/"
        },
        "id": "BtfgISK1tvhr",
        "outputId": "a5c5fb55-f83f-4127-c57d-bf3e452e3dfd"
      },
      "execution_count": null,
      "outputs": [
        {
          "output_type": "stream",
          "name": "stdout",
          "text": [
            "애국가\t1절\n",
            "동해물과 '백두산'이 \n",
            "마르고 닳도록\n",
            "동해물과 \"백두산\"이 마르고 닳도록\n",
            "동해물과 \"백두산\"이\b 마르고 닳도록\n"
          ]
        }
      ]
    },
    {
      "cell_type": "markdown",
      "source": [
        "---\n",
        "### 단어 대입"
      ],
      "metadata": {
        "id": "6eoCTBpcxx2a"
      }
    },
    {
      "cell_type": "code",
      "source": [
        "a='난생'\n",
        "b='처음'\n",
        "print(a,b)\n",
        "print(a+b)\n",
        "c='파이썬은'+a+b\n",
        "print(c)"
      ],
      "metadata": {
        "colab": {
          "base_uri": "https://localhost:8080/"
        },
        "id": "vqrGrJbuu6wh",
        "outputId": "0d03e882-9f27-4f9b-c12d-847922de4721"
      },
      "execution_count": null,
      "outputs": [
        {
          "output_type": "stream",
          "name": "stdout",
          "text": [
            "난생 처음\n",
            "난생처음\n",
            "파이썬은난생처음\n"
          ]
        }
      ]
    },
    {
      "cell_type": "markdown",
      "source": [
        " 곱하기 print(a*b) 이런건 안됨"
      ],
      "metadata": {
        "id": "kMZbFoxIvuCq"
      }
    },
    {
      "cell_type": "markdown",
      "source": [
        "---\n",
        "### 글자수 카운트"
      ],
      "metadata": {
        "id": "HcJHN101xs2C"
      }
    },
    {
      "cell_type": "code",
      "source": [
        "var1='동해물과 백두산이'\n",
        "var2='마르고 닳도록'\n",
        "var3='hello world'\n",
        "len1=len(var1)#len:안에있는 숫자를 반환해주는 함수\n",
        "len2=len(var2)\n",
        "len3=len(var3)\n",
        "print(len1,len2,len3)\n",
        "diff=len1-len2#글자수 차이 비교\n",
        "print(diff)"
      ],
      "metadata": {
        "colab": {
          "base_uri": "https://localhost:8080/"
        },
        "id": "VEpkQGXevzP6",
        "outputId": "a2376b6a-5fc6-4ac6-de63-32f3dd2406d3"
      },
      "execution_count": null,
      "outputs": [
        {
          "output_type": "stream",
          "name": "stdout",
          "text": [
            "9 7 11\n",
            "2\n"
          ]
        }
      ]
    },
    {
      "cell_type": "markdown",
      "source": [
        "var1 : 공백 포함 9자리   \n",
        "var2 : 공백 포함 7자리   \n",
        "var3 : 공백 포함 11자리"
      ],
      "metadata": {
        "id": "WIT7ikwAwUq8"
      }
    },
    {
      "cell_type": "markdown",
      "source": [
        "---\n",
        "### 전부 대소문자로 바꾸는법"
      ],
      "metadata": {
        "id": "jesaoQ2Dxo2i"
      }
    },
    {
      "cell_type": "code",
      "source": [
        "ss='Hello World'\n",
        "##ss안에꺼 전부 대문자로 바꿈\n",
        "var1=ss.upper()#upper: 대문자로바꿔줌\n",
        "print(var1)\n",
        "##ss안에꺼 전부 소문자로 바꿈\n",
        "var2=ss.lower()#lower: 소문자로바꿔줌\n",
        "print(var2)"
      ],
      "metadata": {
        "colab": {
          "base_uri": "https://localhost:8080/"
        },
        "id": "ju8X70rMxB3j",
        "outputId": "ebc25cef-b01a-4da5-bf93-c2249beb1e3b"
      },
      "execution_count": null,
      "outputs": [
        {
          "output_type": "stream",
          "name": "stdout",
          "text": [
            "HELLO WORLD\n",
            "hello world\n"
          ]
        }
      ]
    },
    {
      "cell_type": "markdown",
      "source": [
        "---\n",
        "### 특정 단어 갯수 알아내는법"
      ],
      "metadata": {
        "id": "6LQMppU_x7J6"
      }
    },
    {
      "cell_type": "code",
      "source": [
        "ss='처음먹은 음식이 처음인데 익숙한 것 처럼 맛있다'\n",
        "ss.count(\"처음\")"
      ],
      "metadata": {
        "colab": {
          "base_uri": "https://localhost:8080/"
        },
        "id": "7AkA38Hzx_WR",
        "outputId": "84ed4e5a-1c00-45b2-cb90-d59a2f6cefce"
      },
      "execution_count": null,
      "outputs": [
        {
          "output_type": "execute_result",
          "data": {
            "text/plain": [
              "2"
            ]
          },
          "metadata": {},
          "execution_count": 189
        }
      ]
    },
    {
      "cell_type": "markdown",
      "source": [
        "---\n",
        "### 특정단어 위치 찾아내는법"
      ],
      "metadata": {
        "id": "vlDxfbuoynG7"
      }
    },
    {
      "cell_type": "code",
      "source": [
        "ss='처음먹은 음식이 처음인데 익숙한 것 처럼 맛있다'\n",
        "ss.find(\"음식\")"
      ],
      "metadata": {
        "colab": {
          "base_uri": "https://localhost:8080/"
        },
        "id": "w9W2PLmEyQ2S",
        "outputId": "1f49d4e2-985a-4596-ad9d-4d64a57a1073"
      },
      "execution_count": null,
      "outputs": [
        {
          "output_type": "execute_result",
          "data": {
            "text/plain": [
              "5"
            ]
          },
          "metadata": {},
          "execution_count": 154
        }
      ]
    },
    {
      "cell_type": "markdown",
      "source": [
        "0부터 시작하여 5번째칸에 존재함."
      ],
      "metadata": {
        "id": "LBa2n5kPyXtC"
      }
    },
    {
      "cell_type": "markdown",
      "source": [
        "---\n",
        "### 특정 위치에 있는 단어 출력하기"
      ],
      "metadata": {
        "id": "_P11ec74yxTq"
      }
    },
    {
      "cell_type": "code",
      "source": [
        "ss='처음먹은 음식이 처음인데 익숙한 것 처럼 맛있는 음식이다'\n",
        "#앞에서 부터 자릿수 카운트\n",
        "print(ss[5]+ss[6])\n",
        "#뒤에서부터 자릿수 카운트\n",
        "print(ss[-8])"
      ],
      "metadata": {
        "colab": {
          "base_uri": "https://localhost:8080/"
        },
        "id": "gwV2gIzOy94C",
        "outputId": "0cf8c267-f089-47b6-90af-0085cef05537"
      },
      "execution_count": null,
      "outputs": [
        {
          "output_type": "stream",
          "name": "stdout",
          "text": [
            "음식\n",
            "맛\n"
          ]
        }
      ]
    },
    {
      "cell_type": "markdown",
      "source": [
        "### 특정단어 지정해 바꾸는법"
      ],
      "metadata": {
        "id": "b5EkT-p2rOFF"
      }
    },
    {
      "cell_type": "code",
      "source": [
        "a=3\n",
        "b=4\n",
        "t=0\n",
        "'''\n",
        "t=a\n",
        "a=b\n",
        "b=t\n",
        "'''\n",
        "a,b=3,4\n",
        "print(a,b)\n",
        "a,b=b,a\n",
        "print(a,b)"
      ],
      "metadata": {
        "colab": {
          "base_uri": "https://localhost:8080/"
        },
        "id": "RaITCyxtqzSt",
        "outputId": "527d093c-820c-4317-ab32-3416be3096c7"
      },
      "execution_count": null,
      "outputs": [
        {
          "output_type": "stream",
          "name": "stdout",
          "text": [
            "3 4\n",
            "4 3\n"
          ]
        }
      ]
    },
    {
      "cell_type": "markdown",
      "source": [
        "#2주차 복습"
      ],
      "metadata": {
        "id": "r3xe4SzZLKrD"
      }
    },
    {
      "cell_type": "code",
      "source": [
        "a='good morning'\n",
        "b='-'\n",
        "print(b*50)\n",
        "print(a)\n",
        "print(b*50)\n",
        "print(a*5) # * (숫자) 하면 정해진 숫자만큼 복사"
      ],
      "metadata": {
        "colab": {
          "base_uri": "https://localhost:8080/"
        },
        "id": "gS36sZqlLQq7",
        "outputId": "313714e7-e59c-4a52-ef08-e32319530ad6"
      },
      "execution_count": null,
      "outputs": [
        {
          "output_type": "stream",
          "name": "stdout",
          "text": [
            "--------------------------------------------------\n",
            "good morning\n",
            "--------------------------------------------------\n",
            "good morninggood morninggood morninggood morninggood morning\n"
          ]
        }
      ]
    },
    {
      "cell_type": "code",
      "source": [
        "a='Life is short,Art is long'\n",
        "b=a[0]+a[1]+a[2]+a[3] #배열의 0,1,2,3번째 텍스트 출력 '슬라이스'\n",
        "print(b)\n",
        "print(a[8:13]) #8번부터 13번까지 출력, 하고싶은단어에 +1 해야됨\n",
        "print(a[14:-8])"
      ],
      "metadata": {
        "colab": {
          "base_uri": "https://localhost:8080/"
        },
        "id": "nry1Yx0VL-Iz",
        "outputId": "c1bf88b2-e4db-4fd9-b3b3-e14bad2491be"
      },
      "execution_count": null,
      "outputs": [
        {
          "output_type": "stream",
          "name": "stdout",
          "text": [
            "Life\n",
            "short\n",
            "Art\n"
          ]
        }
      ]
    },
    {
      "cell_type": "code",
      "source": [
        "s=\"20220913Sunny\"\n",
        "date=s[:8] #위치 값 시작은 그대로\n",
        "weather=s[8:] #끝은 -1해서\n",
        "year=s[0:4]\n",
        "day=s[4:8]\n",
        "print(date)\n",
        "print(weather)\n",
        "print(year)\n",
        "print(day)"
      ],
      "metadata": {
        "colab": {
          "base_uri": "https://localhost:8080/"
        },
        "id": "c7GTfxh-NZkQ",
        "outputId": "f21d0305-95fc-4390-951f-6122f76cd5af"
      },
      "execution_count": null,
      "outputs": [
        {
          "output_type": "stream",
          "name": "stdout",
          "text": [
            "20220913\n",
            "Sunny\n",
            "2022\n",
            "0913\n"
          ]
        }
      ]
    },
    {
      "cell_type": "markdown",
      "source": [
        "--- \n",
        "### 값 대치 원할때"
      ],
      "metadata": {
        "id": "phX8IU5gOahh"
      }
    },
    {
      "cell_type": "code",
      "source": [
        "ea=5\n",
        "fruit='banana'\n",
        "print('바나나를 %d개 먹었습니다'%ea) #%d 숫자불러옴\n",
        "print('%s를 %d개 먹었습니다' %(day,ea))\n",
        "\n"
      ],
      "metadata": {
        "colab": {
          "base_uri": "https://localhost:8080/"
        },
        "id": "EykEt2zHOZZ5",
        "outputId": "a47ef12c-a3a8-4954-98a8-898a7e77fb35"
      },
      "execution_count": null,
      "outputs": [
        {
          "output_type": "stream",
          "name": "stdout",
          "text": [
            "바나나를 5개 먹었습니다\n",
            "5를 5개 먹었습니다\n"
          ]
        }
      ]
    },
    {
      "cell_type": "markdown",
      "source": [
        "# 조건문"
      ],
      "metadata": {
        "id": "wdBkcBkVKYhk"
      }
    },
    {
      "cell_type": "markdown",
      "source": [
        "---\n",
        "순차구조   \n",
        "순차적으로 코드가실행   \n",
        "물이 흐르듯이 위에서 아래로 흐름 \n"
      ],
      "metadata": {
        "id": "BnDly1ZvKidR"
      }
    },
    {
      "cell_type": "markdown",
      "source": [
        "\n",
        "선택구조   \n",
        "말그대로 선택 구조"
      ],
      "metadata": {
        "id": "J0pWVmVMKxlL"
      }
    },
    {
      "cell_type": "markdown",
      "source": [
        "\n",
        "반복구조   \n",
        "동일한 코드, 특정단계 여러번 반복.   "
      ],
      "metadata": {
        "id": "jrxduQPNK3Cb"
      }
    },
    {
      "cell_type": "markdown",
      "source": [
        "---\n",
        "##if문"
      ],
      "metadata": {
        "id": "uRmtUf1fP16Z"
      }
    },
    {
      "cell_type": "markdown",
      "source": [
        "만약에 ㅇㅇ 라면으로 해석   \n",
        "조건식이 참이라면 실행할 문장이 실행됨   \n",
        "거짓이라면 아무것도 실행하지 않고 프로그램을 종료함   \n",
        ":과 들여쓰기(tab)을 해줘야함"
      ],
      "metadata": {
        "id": "CwfnX4lRP3_R"
      }
    },
    {
      "cell_type": "code",
      "source": [
        "money=3800\n",
        "if money>=3800 :\n",
        "  print(\"택시를 타고\")\n",
        "  print(\"집으로 간다\")\n",
        "else:\n",
        "  print(\"뛰어간다.\")\n"
      ],
      "metadata": {
        "colab": {
          "base_uri": "https://localhost:8080/"
        },
        "id": "Os1HR2DeQMJR",
        "outputId": "03925ac3-81e5-4890-d98f-4eab266ea0ec"
      },
      "execution_count": null,
      "outputs": [
        {
          "output_type": "stream",
          "name": "stdout",
          "text": [
            "택시를 타고\n",
            "집으로 간다\n"
          ]
        }
      ]
    },
    {
      "cell_type": "markdown",
      "source": [
        "---\n",
        "### 숫자를 입력 받아 홀수,짝수 인식"
      ],
      "metadata": {
        "id": "xZec8r_mRXOY"
      }
    },
    {
      "cell_type": "code",
      "source": [
        "num=int(input('숫자입력:'))\n",
        "if (num%2 == 0):\n",
        "  print('짝수입니다.')\n",
        "else:\n",
        "  print('홀수입니다.')"
      ],
      "metadata": {
        "colab": {
          "base_uri": "https://localhost:8080/"
        },
        "id": "1sgU0_y4RcO3",
        "outputId": "344be0fe-72ea-4461-fd40-66f555bd6184"
      },
      "execution_count": null,
      "outputs": [
        {
          "output_type": "stream",
          "name": "stdout",
          "text": [
            "숫자입력:1\n",
            "홀수입니다.\n"
          ]
        }
      ]
    },
    {
      "cell_type": "markdown",
      "source": [
        "---\n",
        "### 숫자의 크기비교"
      ],
      "metadata": {
        "id": "zZ0ow8x6SlMw"
      }
    },
    {
      "cell_type": "code",
      "source": [
        "a=200\n",
        "b=200\n",
        "if b>a:\n",
        "  print('a가 b보다 작다')\n",
        "elif a==b:\n",
        "  print('a와 b가 같다')\n",
        "else: #a>b\n",
        "  print('a가 b보다 크다')\n",
        "\n",
        "#가로로 쓰기\n",
        "if a>b: print('a가b보다큼')\n",
        "print('A>B')if a>b else print('B>A')\n",
        "print('A>B')if a>b else print('=') if a==b else print('B>A')\n"
      ],
      "metadata": {
        "colab": {
          "base_uri": "https://localhost:8080/"
        },
        "id": "OUzow-6wSCpX",
        "outputId": "4f07d3b1-e11d-489b-bef5-17971810fab5"
      },
      "execution_count": null,
      "outputs": [
        {
          "output_type": "stream",
          "name": "stdout",
          "text": [
            "a와 b가 같다\n",
            "B>A\n",
            "=\n"
          ]
        }
      ]
    },
    {
      "cell_type": "code",
      "source": [
        "a=100\n",
        "b=200\n",
        "c=300\n",
        "if(a<b)and(c<a):\n",
        "  print('A둘다클때')\n",
        "if(a<b)or(c>a):\n",
        "  print('B둘중 하나만 만족해도')\n"
      ],
      "metadata": {
        "colab": {
          "base_uri": "https://localhost:8080/"
        },
        "id": "ehgLlL5oXHWW",
        "outputId": "576c60b8-f2ad-418c-93ba-08d093515de2"
      },
      "execution_count": null,
      "outputs": [
        {
          "output_type": "stream",
          "name": "stdout",
          "text": [
            "B둘중 하나만 만족해도\n"
          ]
        }
      ]
    },
    {
      "cell_type": "markdown",
      "source": [
        "---\n",
        "## 중첩조건문"
      ],
      "metadata": {
        "id": "PUPMs83XX_Gm"
      }
    },
    {
      "cell_type": "markdown",
      "source": [
        "if문안에 if문을 중첩 조건문이라고한다."
      ],
      "metadata": {
        "id": "y2e-i8y3aWAl"
      }
    },
    {
      "cell_type": "code",
      "source": [
        "x=40\n",
        "if x>20:\n",
        "  print('A:20보다 큰수')\n",
        "  if x>30:\n",
        "    print('B:30보다 큰수')\n",
        "  else:\n",
        "    print('B:20<x<=30수')\n",
        "else: #10보다 작은 수\n",
        "  print('A:20보다 작은수')\n"
      ],
      "metadata": {
        "colab": {
          "base_uri": "https://localhost:8080/"
        },
        "id": "Ly6jblu4YCwt",
        "outputId": "a490ca62-bedf-41dc-cc09-9c1567d2314b"
      },
      "execution_count": null,
      "outputs": [
        {
          "output_type": "stream",
          "name": "stdout",
          "text": [
            "A:20보다 큰수\n",
            "B:30보다 큰수\n"
          ]
        }
      ]
    },
    {
      "cell_type": "markdown",
      "source": [
        "## pass 사용시 스킵됨"
      ],
      "metadata": {
        "id": "wIMTI3NHaOE8"
      }
    },
    {
      "cell_type": "code",
      "source": [
        "a=30\n",
        "b=40\n",
        "if b>a:\n",
        "  pass\n",
        "else:\n",
        "  print('A')\n",
        "print('B')"
      ],
      "metadata": {
        "colab": {
          "base_uri": "https://localhost:8080/"
        },
        "id": "etn7Rgq2ZwFd",
        "outputId": "ab6fd7e7-a9ca-4398-ecaa-6bd4f5a0e81f"
      },
      "execution_count": null,
      "outputs": [
        {
          "output_type": "stream",
          "name": "stdout",
          "text": [
            "B\n"
          ]
        }
      ]
    },
    {
      "cell_type": "markdown",
      "source": [
        "##elif문"
      ],
      "metadata": {
        "id": "tUlKjLuAacmt"
      }
    },
    {
      "cell_type": "markdown",
      "source": [
        "if else를 elif문이라고한다."
      ],
      "metadata": {
        "id": "qtFizi1UaZ71"
      }
    },
    {
      "cell_type": "markdown",
      "source": [
        "##while문"
      ],
      "metadata": {
        "id": "RytuHPagaheM"
      }
    },
    {
      "cell_type": "markdown",
      "source": [
        "###While Loop"
      ],
      "metadata": {
        "id": "hrjI3Dysatx0"
      }
    },
    {
      "cell_type": "code",
      "source": [
        "i=1\n",
        "while i<6:\n",
        "  print(i, end=' ') \n",
        "  i+=1 #i=i+1"
      ],
      "metadata": {
        "colab": {
          "base_uri": "https://localhost:8080/"
        },
        "id": "0lHldO-eaqmE",
        "outputId": "f2d725fb-bd4c-4ee9-9ca6-ecba5f1394c6"
      },
      "execution_count": null,
      "outputs": [
        {
          "output_type": "stream",
          "name": "stdout",
          "text": [
            "1 2 3 4 5 "
          ]
        }
      ]
    },
    {
      "cell_type": "markdown",
      "source": [
        "end='' 하면 가로로, ' ' 사이에 입력하면 그값도 추가되서나옴\n",
        "\n"
      ],
      "metadata": {
        "id": "mlLY_UN9bQbL"
      }
    },
    {
      "cell_type": "markdown",
      "source": [
        "---\n",
        "### Break 수행중 빠지고싶을때\n",
        "\n"
      ],
      "metadata": {
        "id": "i9fRt_j3ba4b"
      }
    },
    {
      "cell_type": "code",
      "source": [
        "j=1\n",
        "while j<7:\n",
        "  print(j)\n",
        "  if j==3:\n",
        "    break \n",
        "  j+=1"
      ],
      "metadata": {
        "colab": {
          "base_uri": "https://localhost:8080/"
        },
        "id": "w0GyHkXGbggE",
        "outputId": "68184e67-2582-4b29-f959-55b31e87cb48"
      },
      "execution_count": null,
      "outputs": [
        {
          "output_type": "stream",
          "name": "stdout",
          "text": [
            "1\n",
            "2\n",
            "3\n"
          ]
        }
      ]
    },
    {
      "cell_type": "markdown",
      "source": [
        "7까지 표시되어야 되나 3에서 빠져나옴."
      ],
      "metadata": {
        "id": "nVQLB43Xb2eE"
      }
    },
    {
      "cell_type": "markdown",
      "source": [
        "---\n",
        "###continue 특정숫자를 빼고싶을때 "
      ],
      "metadata": {
        "id": "g57ju86Lb4Ic"
      }
    },
    {
      "cell_type": "code",
      "source": [
        "k=0\n",
        "while k<6:\n",
        "  k+=1\n",
        "  if k==3:\n",
        "    continue\n",
        "  print(k)"
      ],
      "metadata": {
        "colab": {
          "base_uri": "https://localhost:8080/"
        },
        "id": "SKdsGMH_b6Qb",
        "outputId": "04af02cd-cb7f-4619-80ad-cbf7c0f0c9aa"
      },
      "execution_count": null,
      "outputs": [
        {
          "output_type": "stream",
          "name": "stdout",
          "text": [
            "1\n",
            "2\n",
            "4\n",
            "5\n",
            "6\n"
          ]
        }
      ]
    },
    {
      "cell_type": "markdown",
      "source": [
        "3을 건너뜀"
      ],
      "metadata": {
        "id": "gHlA5J-gcWek"
      }
    },
    {
      "cell_type": "markdown",
      "source": [
        "---\n",
        "###홀수만출력"
      ],
      "metadata": {
        "id": "iBm7bY76chI8"
      }
    },
    {
      "cell_type": "code",
      "source": [
        "i=0\n",
        "while i<10:\n",
        "  i+=1 #1씩증가\n",
        "  if i%2 == 0: #i가 2로나눈 나머지가 0이라면\n",
        "    continue\n",
        "  print(i)"
      ],
      "metadata": {
        "colab": {
          "base_uri": "https://localhost:8080/"
        },
        "id": "HP2qMSLYclcB",
        "outputId": "231f71a6-bee8-4996-e8c5-9f65aedf4530"
      },
      "execution_count": null,
      "outputs": [
        {
          "output_type": "stream",
          "name": "stdout",
          "text": [
            "1\n",
            "3\n",
            "5\n",
            "7\n",
            "9\n"
          ]
        }
      ]
    },
    {
      "cell_type": "markdown",
      "source": [
        "###짝수만출력"
      ],
      "metadata": {
        "id": "O7hjXzpldECb"
      }
    },
    {
      "cell_type": "code",
      "source": [
        "i=0\n",
        "while i<10:\n",
        "  i+=1\n",
        "  if i%2==1:\n",
        "    continue\n",
        "  print(i)"
      ],
      "metadata": {
        "colab": {
          "base_uri": "https://localhost:8080/"
        },
        "id": "U5zNeI6SdFMF",
        "outputId": "8238f4d5-0afe-4843-9a24-33436dda9e09"
      },
      "execution_count": null,
      "outputs": [
        {
          "output_type": "stream",
          "name": "stdout",
          "text": [
            "2\n",
            "4\n",
            "6\n",
            "8\n",
            "10\n"
          ]
        }
      ]
    },
    {
      "cell_type": "markdown",
      "source": [
        "---\n",
        "###Random (응용한 가위바위보)"
      ],
      "metadata": {
        "id": "MeIqxgx8i39b"
      }
    },
    {
      "cell_type": "code",
      "source": [
        "import random\n",
        "rcp=['가이','바이','이끼']\n",
        "pc=random.choice(rcp) #지정해둔것에서 랜덤으로 초이스하는것.\n",
        "me=input('가이바이이끼 입력:')\n",
        "print(pc)\n",
        "print(f'내가선택 {me} / PC선택 {pc}')\n",
        "if me=='가이':\n",
        "  if pc=='가이':print('b-gim')\n",
        "  elif pc=='바이':print('jim')\n",
        "  elif pc=='이끼':print('e-gim')\n",
        "elif me=='바이':\n",
        "  if pc=='가이':print('e-gim')\n",
        "  elif pc=='바이':print('b-gim')\n",
        "  elif pc=='이끼':print('jim')\n",
        "elif me=='이끼':\n",
        "  if pc=='가이':print('gim')\n",
        "  elif pc=='바이':print('e-gim')\n",
        "  elif pc=='이끼':print('b-gim')\n",
        "else:\n",
        "  print('가이,바이,이끼만 입력하세요')\n",
        "  "
      ],
      "metadata": {
        "colab": {
          "base_uri": "https://localhost:8080/"
        },
        "id": "zfUAavCGi3B5",
        "outputId": "6a6a12fc-45f9-4826-8d40-d6fbbd21453a"
      },
      "execution_count": null,
      "outputs": [
        {
          "output_type": "stream",
          "name": "stdout",
          "text": [
            "가이바이이끼 입력:이끼\n",
            "바이\n",
            "내가선택 이끼 / PC선택 바이\n",
            "e-gim\n"
          ]
        }
      ]
    },
    {
      "cell_type": "markdown",
      "source": [
        "## 반복문\n"
      ],
      "metadata": {
        "id": "Ep62svJfmWuW"
      }
    },
    {
      "cell_type": "markdown",
      "source": [
        "###for문 for in 형식   \n",
        "range(시작값,끝값+1,증가값):지정된 범위의 값을 반환함.   "
      ],
      "metadata": {
        "id": "100bZ1Jxmapv"
      }
    },
    {
      "cell_type": "markdown",
      "source": [
        "### for loop"
      ],
      "metadata": {
        "id": "aaIG6O2AmwC1"
      }
    },
    {
      "cell_type": "code",
      "source": [
        "for i in range(0,3,1): #0부터 3까지 1씩 증가해라. \n",
        "  # =for i in ragne(3)\n",
        "  print('과일은 맛있다!')\n",
        "for i in range(4):\n",
        "  print('I like Apple')\n",
        "for k in [0,1,2]: #배열로 선언\n",
        "  print('따봉!')"
      ],
      "metadata": {
        "colab": {
          "base_uri": "https://localhost:8080/"
        },
        "id": "JY4Xn4Vvndx-",
        "outputId": "a68353b7-63a5-4ead-807b-cca78cec8d78"
      },
      "execution_count": null,
      "outputs": [
        {
          "output_type": "stream",
          "name": "stdout",
          "text": [
            "과일은 맛있다!\n",
            "과일은 맛있다!\n",
            "과일은 맛있다!\n",
            "I like Apple\n",
            "I like Apple\n",
            "I like Apple\n",
            "I like Apple\n",
            "따봉!\n",
            "따봉!\n",
            "따봉!\n"
          ]
        }
      ]
    },
    {
      "cell_type": "code",
      "source": [
        "hap=0\n",
        "for i in range(1,10,1): #ragne(시작,끝+1,증가값)\n",
        "  print(i,end=' ')\n",
        "  hap=hap+i\n",
        "print(hap)"
      ],
      "metadata": {
        "colab": {
          "base_uri": "https://localhost:8080/"
        },
        "id": "Ndzy366qoTb_",
        "outputId": "485d0bef-06db-4663-8d06-84e30954cec1"
      },
      "execution_count": null,
      "outputs": [
        {
          "output_type": "stream",
          "name": "stdout",
          "text": [
            "1 2 3 4 5 6 7 8 9 45\n"
          ]
        }
      ]
    },
    {
      "cell_type": "markdown",
      "source": [
        "### 팩토리얼(5명이서 줄서는 방법)"
      ],
      "metadata": {
        "id": "EejU5uMXp1jm"
      }
    },
    {
      "cell_type": "code",
      "source": [
        "fac = 1\n",
        "num = 5\n",
        "for k in range(1,num+1,1):\n",
        "  fac=fac*k\n",
        "print(fac)"
      ],
      "metadata": {
        "colab": {
          "base_uri": "https://localhost:8080/"
        },
        "id": "Id7wAsS_p4P1",
        "outputId": "4554fd22-ac30-44c9-9483-d3715cd43631"
      },
      "execution_count": null,
      "outputs": [
        {
          "output_type": "stream",
          "name": "stdout",
          "text": [
            "120\n"
          ]
        }
      ]
    },
    {
      "cell_type": "markdown",
      "source": [
        "###중첩 for문"
      ],
      "metadata": {
        "id": "EDgnp9mut66U"
      }
    },
    {
      "cell_type": "code",
      "source": [
        "for i in range(2):\n",
        "  for k in range(3):\n",
        "    print(i,k,'중첩 for문')"
      ],
      "metadata": {
        "colab": {
          "base_uri": "https://localhost:8080/"
        },
        "id": "5MDsbN6htds0",
        "outputId": "df3e790c-812c-4cfc-bf0d-b1e87e72e229"
      },
      "execution_count": null,
      "outputs": [
        {
          "output_type": "stream",
          "name": "stdout",
          "text": [
            "0 0 중첩 for문\n",
            "0 1 중첩 for문\n",
            "0 2 중첩 for문\n",
            "1 0 중첩 for문\n",
            "1 1 중첩 for문\n",
            "1 2 중첩 for문\n"
          ]
        }
      ]
    },
    {
      "cell_type": "markdown",
      "source": [
        "####중첩 for문 응용 구구단.1"
      ],
      "metadata": {
        "id": "NjBueqjFt9xs"
      }
    },
    {
      "cell_type": "code",
      "source": [
        "i=int(input('구구단 출력할 단수 입력'))\n",
        "for j in range(1,10,1):\n",
        "  k=i*j\n",
        "  print(i,'x',j,'=',i*j)"
      ],
      "metadata": {
        "colab": {
          "base_uri": "https://localhost:8080/"
        },
        "id": "atFjPi2WuBTc",
        "outputId": "0ce54798-38f4-4a87-d3a8-3122ec8cebd9"
      },
      "execution_count": null,
      "outputs": [
        {
          "output_type": "stream",
          "name": "stdout",
          "text": [
            "구구단 출력할 단수 입력21\n",
            "21 x 1 = 21\n",
            "21 x 2 = 42\n",
            "21 x 3 = 63\n",
            "21 x 4 = 84\n",
            "21 x 5 = 105\n",
            "21 x 6 = 126\n",
            "21 x 7 = 147\n",
            "21 x 8 = 168\n",
            "21 x 9 = 189\n"
          ]
        }
      ]
    },
    {
      "cell_type": "markdown",
      "source": [
        "####구구단응용.2"
      ],
      "metadata": {
        "id": "gt2zHQojw6Tz"
      }
    },
    {
      "cell_type": "code",
      "source": [
        "for i in range(2,10,1):\n",
        "  for j in range(1,10,1):\n",
        "    print(i,'x',j,'=',i*j)\n",
        "  print('-'*30)"
      ],
      "metadata": {
        "colab": {
          "base_uri": "https://localhost:8080/"
        },
        "id": "RAdSsuq3w-Tr",
        "outputId": "6a4f3923-434e-4fd5-db36-8659df033c8d"
      },
      "execution_count": null,
      "outputs": [
        {
          "output_type": "stream",
          "name": "stdout",
          "text": [
            "2 x 1 = 2\n",
            "2 x 2 = 4\n",
            "2 x 3 = 6\n",
            "2 x 4 = 8\n",
            "2 x 5 = 10\n",
            "2 x 6 = 12\n",
            "2 x 7 = 14\n",
            "2 x 8 = 16\n",
            "2 x 9 = 18\n",
            "------------------------------\n",
            "3 x 1 = 3\n",
            "3 x 2 = 6\n",
            "3 x 3 = 9\n",
            "3 x 4 = 12\n",
            "3 x 5 = 15\n",
            "3 x 6 = 18\n",
            "3 x 7 = 21\n",
            "3 x 8 = 24\n",
            "3 x 9 = 27\n",
            "------------------------------\n",
            "4 x 1 = 4\n",
            "4 x 2 = 8\n",
            "4 x 3 = 12\n",
            "4 x 4 = 16\n",
            "4 x 5 = 20\n",
            "4 x 6 = 24\n",
            "4 x 7 = 28\n",
            "4 x 8 = 32\n",
            "4 x 9 = 36\n",
            "------------------------------\n",
            "5 x 1 = 5\n",
            "5 x 2 = 10\n",
            "5 x 3 = 15\n",
            "5 x 4 = 20\n",
            "5 x 5 = 25\n",
            "5 x 6 = 30\n",
            "5 x 7 = 35\n",
            "5 x 8 = 40\n",
            "5 x 9 = 45\n",
            "------------------------------\n",
            "6 x 1 = 6\n",
            "6 x 2 = 12\n",
            "6 x 3 = 18\n",
            "6 x 4 = 24\n",
            "6 x 5 = 30\n",
            "6 x 6 = 36\n",
            "6 x 7 = 42\n",
            "6 x 8 = 48\n",
            "6 x 9 = 54\n",
            "------------------------------\n",
            "7 x 1 = 7\n",
            "7 x 2 = 14\n",
            "7 x 3 = 21\n",
            "7 x 4 = 28\n",
            "7 x 5 = 35\n",
            "7 x 6 = 42\n",
            "7 x 7 = 49\n",
            "7 x 8 = 56\n",
            "7 x 9 = 63\n",
            "------------------------------\n",
            "8 x 1 = 8\n",
            "8 x 2 = 16\n",
            "8 x 3 = 24\n",
            "8 x 4 = 32\n",
            "8 x 5 = 40\n",
            "8 x 6 = 48\n",
            "8 x 7 = 56\n",
            "8 x 8 = 64\n",
            "8 x 9 = 72\n",
            "------------------------------\n",
            "9 x 1 = 9\n",
            "9 x 2 = 18\n",
            "9 x 3 = 27\n",
            "9 x 4 = 36\n",
            "9 x 5 = 45\n",
            "9 x 6 = 54\n",
            "9 x 7 = 63\n",
            "9 x 8 = 72\n",
            "9 x 9 = 81\n",
            "------------------------------\n"
          ]
        }
      ]
    },
    {
      "cell_type": "markdown",
      "source": [
        "5개씩 인쇄하는방법 숙제."
      ],
      "metadata": {
        "id": "36iYOah2xrt5"
      }
    },
    {
      "cell_type": "markdown",
      "source": [
        "###Random 주사위예제"
      ],
      "metadata": {
        "id": "OarimNDwx5_C"
      }
    },
    {
      "cell_type": "code",
      "source": [
        "import random\n",
        "count = 0\n",
        "dice = 0\n",
        "dice = random.randint(1,6) #랜덤인티저 1to6\n",
        "print(dice)"
      ],
      "metadata": {
        "colab": {
          "base_uri": "https://localhost:8080/"
        },
        "id": "TcCWkmC9x8Hh",
        "outputId": "31829970-0fd9-4208-feec-3f128dfbf484"
      },
      "execution_count": null,
      "outputs": [
        {
          "output_type": "stream",
          "name": "stdout",
          "text": [
            "6\n"
          ]
        }
      ]
    },
    {
      "cell_type": "markdown",
      "source": [
        "1-6까지 출력됨."
      ],
      "metadata": {
        "id": "gd-jF52WyX7i"
      }
    },
    {
      "cell_type": "markdown",
      "source": [
        "####공통값 카운트되는 주사위"
      ],
      "metadata": {
        "id": "T1jz1sgQz6hg"
      }
    },
    {
      "cell_type": "code",
      "source": [
        "import random\n",
        "count=0\n",
        "dice1,dice2,dice3=0,0,0\n",
        "#주사위 세개 공통된값 나올때 카운트.\n",
        "while True:\n",
        "  count+=1\n",
        "  dice1=random.randint(1,6)\n",
        "  dice2=random.randint(1,6)\n",
        "  dice3=random.randint(1,6)\n",
        "  if (dice1==dice2) and (dice2==dice3): #세개의 주사위값이 같을때\n",
        "    break\n",
        "print('주사위 값은',dice1,'&',count,'번 던졌습니다.')"
      ],
      "metadata": {
        "colab": {
          "base_uri": "https://localhost:8080/"
        },
        "id": "-Rgf4Q_syc6S",
        "outputId": "dcd15bb0-4312-4427-d630-131f77bba865"
      },
      "execution_count": null,
      "outputs": [
        {
          "output_type": "stream",
          "name": "stdout",
          "text": [
            "주사위 값은 5 & 12 번 던졌습니다.\n"
          ]
        }
      ]
    },
    {
      "cell_type": "markdown",
      "source": [
        "#### 점수맞추기 게임."
      ],
      "metadata": {
        "id": "Mmb_-_cl14Kj"
      }
    },
    {
      "cell_type": "code",
      "source": [
        "import random\n",
        "pc,me=0,0\n",
        "for i in range(1,11,1):\n",
        "  pc=random.randint(1,9) #random integer\n",
        "  print(i,'번째 게임',end=' ')\n",
        "  me=int(input(\"PC의 숫자는?\"))\n",
        "  \n",
        "  if pc == me:\n",
        "    print('correct!!')\n",
        "    break\n",
        "  else:\n",
        "    print('incorrect..')\n",
        "    continue\n",
        "print('..game over..')"
      ],
      "metadata": {
        "colab": {
          "base_uri": "https://localhost:8080/"
        },
        "id": "zkE0qkQ30ZSq",
        "outputId": "957002dc-f618-464e-8c87-b85b7adf51d2"
      },
      "execution_count": null,
      "outputs": [
        {
          "output_type": "stream",
          "name": "stdout",
          "text": [
            "1 번째 게임 PC의 숫자는?2\n",
            "incorrect..\n",
            "2 번째 게임 PC의 숫자는?3\n",
            "correct!!\n",
            "..game over..\n"
          ]
        }
      ]
    }
  ]
}